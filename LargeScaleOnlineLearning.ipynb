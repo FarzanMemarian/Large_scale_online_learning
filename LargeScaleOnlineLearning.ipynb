{
 "cells": [
  {
   "cell_type": "markdown",
   "metadata": {},
   "source": [
    "# HW1 Part 3: Large Scale Online Learning\n",
    "\n",
    "Authors: \n",
    "- Farzan Memarian fm6996\n",
    "- Timothy Mahler tam2643\n",
    "- Meghana Venkata Palukuri mvp549"
   ]
  },
  {
   "cell_type": "code",
   "execution_count": 154,
   "metadata": {},
   "outputs": [],
   "source": [
    "# DATA GENERATION\n",
    "\n",
    "import numpy as np\n",
    "from itertools import permutations\n",
    "import random\n",
    "import time\n",
    "from pdb import set_trace\n",
    "\n",
    "Nexam = 10**5\n",
    "Ndim = 20\n",
    "Nperm = 30\n",
    "x1 = np.random.multivariate_normal(mean= np.ones(Ndim), cov =  np.identity(Ndim),size = Nexam)\n",
    "y1 = np.ones(Nexam)\n",
    "x2 = np.random.multivariate_normal(mean= -np.ones(Ndim), cov =  np.identity(Ndim),size = Nexam)\n",
    "y2 = -np.ones(Nexam)\n",
    "\n",
    "X = np.concatenate((x1,x2),axis=0)\n",
    "y = np.concatenate((y1,y2))\n",
    "\n",
    "from sklearn import model_selection\n",
    "X_tr_orig, X_test_orig, y_tr_orig, y_test_orig = model_selection.train_test_split(X,y,test_size=0.5)\n",
    "\n",
    "# reshaping y\n",
    "y_tr_orig = y_tr_orig.reshape((len(y_tr_orig),1))\n",
    "y_test_orig = y_test_orig.reshape((len(y_test_orig),1))\n",
    "\n",
    "perms = [] # array storing different premutatins of X, Y\n",
    "for _ in range(Nperm):\n",
    "    inx = np.random.permutation(Nexam)\n",
    "    X_perm = X_tr_orig[inx]\n",
    "    y_perm = y_tr_orig[inx]\n",
    "    perms.append([X_perm,y_perm])"
   ]
  },
  {
   "cell_type": "code",
   "execution_count": 19,
   "metadata": {},
   "outputs": [],
   "source": [
    "# np.save('y_test', y_test_orig)\n",
    "# np.save('X_test', X_test_orig)"
   ]
  },
  {
   "cell_type": "code",
   "execution_count": 21,
   "metadata": {},
   "outputs": [],
   "source": [
    "# np.savetxt('y_test.txt', y_test_orig, fmt='%d')\n",
    "# np.savetxt('X_test.txt', X_test_orig)"
   ]
  },
  {
   "cell_type": "markdown",
   "metadata": {},
   "source": [
    "# A) Batch newton algorithm with the Gauss-Newton approximation"
   ]
  },
  {
   "cell_type": "code",
   "execution_count": 78,
   "metadata": {},
   "outputs": [],
   "source": [
    "# FUNCTIONS\n",
    "from numpy import outer, matmul, inner\n",
    "from numpy.linalg import inv, norm\n",
    "from scipy.sparse import diags\n",
    "from sklearn.metrics import mean_squared_error\n",
    "\n",
    "def func(X, theta):\n",
    "    return  1.71 * np.tanh(0.66 * matmul(X, theta))\n",
    "\n",
    "def f_prime(X, theta):\n",
    "    return  1.71 * 0.66 *  (1 -  np.tanh(0.66 * matmul(X, theta))**2)\n",
    "\n",
    "def gradient_loss(f, f_prime, y, X):\n",
    "    N = len(y)\n",
    "    g = np.zeros((Ndim,))\n",
    "    for i in range(N):\n",
    "        nabla_f_theta = f_prime[i] * X[i,:]\n",
    "        g += 0.5 * 2 * (f[i] - 1.5*y[i]) * nabla_f_theta\n",
    "    return g.reshape((Ndim,1))\n",
    "\n",
    "def hessian(f_prime, X):\n",
    "    h = np.zeros((Ndim,Ndim))\n",
    "    N,_ = np.shape(X)\n",
    "    for i in range(N):\n",
    "        h += f_prime[i]**2 * np.outer(X[i,:],X[i,:])\n",
    "    return h\n",
    "\n",
    "def batch_newton_step(X, y, theta):\n",
    "\n",
    "    f = func(X, theta)\n",
    "#     print (\"mse f, y: {}\".format(mean_squared_error(f,y)) )\n",
    "    f_p = f_prime(X, theta)\n",
    "    g = gradient_loss(f, f_p, y, X)\n",
    "    h = hessian(f_p, X)\n",
    "    h_inv = inv(h)\n",
    "    d_theta = -matmul(h_inv, g)\n",
    "    return d_theta\n",
    "\n",
    "def batch_newton_iter(X, y, theta_init, thresh):\n",
    "    theta = theta_init\n",
    "    keep_iter = True\n",
    "    counter = 0\n",
    "    while keep_iter:\n",
    "#         counter += 1\n",
    "#         if counter % 10 == 0:\n",
    "#             print (\"iter:\", counter)\n",
    "#             print (\"error\", norm(d_theta))\n",
    "#             print (\"threshold\", thresh)\n",
    "        d_theta = batch_newton_step(X, y, theta)\n",
    "\n",
    "        if norm(d_theta) > thresh:\n",
    "            theta += d_theta\n",
    "        else:\n",
    "            keep_iter = False\n",
    "    return theta\n",
    "\n"
   ]
  },
  {
   "cell_type": "code",
   "execution_count": 3,
   "metadata": {
    "scrolled": false
   },
   "outputs": [
    {
     "name": "stdout",
     "output_type": "stream",
     "text": [
      "RUNNING FOR 1000 EXAMPLES\n",
      "perm counter:  5\n",
      "perm counter:  10\n",
      "perm counter:  15\n",
      "perm counter:  20\n",
      "perm counter:  25\n",
      "perm counter:  30\n",
      "RUNNING FOR 3162 EXAMPLES\n",
      "perm counter:  5\n",
      "perm counter:  10\n",
      "perm counter:  15\n",
      "perm counter:  20\n",
      "perm counter:  25\n",
      "perm counter:  30\n",
      "RUNNING FOR 10000 EXAMPLES\n",
      "perm counter:  5\n",
      "perm counter:  10\n",
      "perm counter:  15\n",
      "perm counter:  20\n",
      "perm counter:  25\n",
      "perm counter:  30\n",
      "RUNNING FOR 31622 EXAMPLES\n",
      "perm counter:  5\n",
      "perm counter:  10\n",
      "perm counter:  15\n",
      "perm counter:  20\n",
      "perm counter:  25\n",
      "perm counter:  30\n",
      "RUNNING FOR 100000 EXAMPLES\n",
      "perm counter:  5\n",
      "perm counter:  10\n",
      "perm counter:  15\n",
      "perm counter:  20\n",
      "perm counter:  25\n",
      "perm counter:  30\n"
     ]
    }
   ],
   "source": [
    "# TRAINING BATCH NEWTON ALGORITHM\n",
    "\n",
    "Nsizes = 5\n",
    "n_ex_float = np.floor(np.logspace(3.0, 5.0, num=Nsizes))\n",
    "n_ex = [int(item) for item in n_ex_float]\n",
    "# n_ex = [100,1000]\n",
    "\n",
    "theta_store_all_N = []\n",
    "time_storage_N = []\n",
    "for N in n_ex:\n",
    "    print (\"RUNNING FOR {} EXAMPLES\".format(N))\n",
    "    start_time = time.time()\n",
    "    theta_store = []\n",
    "    thresh = 0.01/N\n",
    "    perm_counter = 0\n",
    "    for X_all,y_all in perms:\n",
    "        X = X_all[:N,:]\n",
    "        y = y_all[:N]\n",
    "        perm_counter += 1\n",
    "        if perm_counter % 5 == 0:\n",
    "            print (\"perm counter: \", perm_counter)\n",
    "        theta_init = np.random.uniform(-0.5, 0.5, size=Ndim).reshape((Ndim,1))\n",
    "        theta = batch_newton_iter(X, y, theta_init, thresh)\n",
    "        theta_store.append(theta)\n",
    "    end_time = time.time()\n",
    "    elapsed_time = end_time - start_time\n",
    "    time_storage_N.append(elapsed_time)\n",
    "    theta_store_all_N.append(theta_store)"
   ]
  },
  {
   "cell_type": "code",
   "execution_count": 4,
   "metadata": {},
   "outputs": [],
   "source": [
    "# SAVE THETAS AND TIMES FOR NEWTON\n",
    "\n",
    "import pickle\n",
    "\n",
    "with open('theta_store_all_N.plk', 'wb') as fp:\n",
    "    pickle.dump(theta_store_all_N, fp)\n",
    "    \n",
    "with open('time_storage_N.plk', 'wb') as fb:\n",
    "    pickle.dump(time_storage_N, fb)"
   ]
  },
  {
   "cell_type": "code",
   "execution_count": 5,
   "metadata": {},
   "outputs": [
    {
     "name": "stdout",
     "output_type": "stream",
     "text": [
      "elapsed time for test set: 259.43181562423706\n"
     ]
    }
   ],
   "source": [
    "# FIND THETA* ON TEST SET USING NEWTON METHOD\n",
    "        \n",
    "N = len(y_test_orig)\n",
    "\n",
    "thresh = 0.01/N\n",
    "\n",
    "X = X_test_orig[:N,:]\n",
    "y = y_test_orig[:N]\n",
    "\n",
    "theta_init = np.random.uniform(-0.5, 0.5, size=Ndim).reshape((Ndim,1))\n",
    "start_time = time.time()\n",
    "theta_star = batch_newton_iter(X, y, theta_init, thresh)\n",
    "np.save('theta_star', theta_star)\n",
    "end_time = time.time()\n",
    "elapsed_time_test = end_time - start_time\n",
    "print (\"elapsed time for test set: {}\".format(elapsed_time_test))"
   ]
  },
  {
   "cell_type": "code",
   "execution_count": 22,
   "metadata": {},
   "outputs": [],
   "source": [
    "np.savetxt('theta_star.txt', theta_star)"
   ]
  },
  {
   "cell_type": "markdown",
   "metadata": {},
   "source": [
    "# B)  Implement the Online-Kalman algorithm "
   ]
  },
  {
   "cell_type": "code",
   "execution_count": 215,
   "metadata": {},
   "outputs": [],
   "source": [
    "def gradient(theta, x, y):\n",
    "    y = np.asarray([y]).T\n",
    "    f = np.tanh((2 / 3) * np.dot(x.T, theta))\n",
    "    return -1 * 1.7159 * (2 / 3) * x * (1.5 * y - 1.7159 * f) * (1 - f ** 2)\n",
    "\n",
    "\n",
    "def online_kalman(X, Y, N):\n",
    "    phi = np.identity(Ndim)\n",
    "    theta = np.random.uniform(-0.5, 0.5, size=Ndim).reshape((Ndim,1))\n",
    "    \n",
    "    start_time = time.time()\n",
    "\n",
    "    for i in range(N):\n",
    "        Xa = np.reshape(np.asarray(X[i, :]), (Ndim, 1))\n",
    "        tau = max(20, i - 40)\n",
    "        a = 1 - (2 / tau)\n",
    "        AA = np.tanh(0.66 * np.dot(Xa.T, theta))\n",
    "\n",
    "        fj = 1.71 * 0.66 * (1 - (AA ** 2))\n",
    "\n",
    "        b = (2 / tau) * fj ** 2\n",
    "        Au = np.matmul(phi, Xa)\n",
    "\n",
    "        uTAu = np.dot(Xa.T, Au)\n",
    "        AuAuT = np.matmul(Au, Au.T)\n",
    "        g = gradient(theta, Xa, Y[i])\n",
    "        phi = (1 / (a)) * (phi - (AuAuT) / ((a / b) + uTAu))\n",
    "\n",
    "        theta = theta - (1 / tau) * np.matmul(phi, g)\n",
    "    \n",
    "    time_o_run = (time.time() - start_time)\n",
    "    return (theta, time_o_run)"
   ]
  },
  {
   "cell_type": "code",
   "execution_count": 216,
   "metadata": {},
   "outputs": [
    {
     "name": "stdout",
     "output_type": "stream",
     "text": [
      "RUNNING FOR 1000 EXAMPLES\n",
      "perm counter:  5\n",
      "perm counter:  10\n",
      "perm counter:  15\n",
      "perm counter:  20\n",
      "perm counter:  25\n",
      "perm counter:  30\n",
      "RUNNING FOR 3162 EXAMPLES\n",
      "perm counter:  5\n",
      "perm counter:  10\n",
      "perm counter:  15\n",
      "perm counter:  20\n",
      "perm counter:  25\n",
      "perm counter:  30\n",
      "RUNNING FOR 10000 EXAMPLES\n",
      "perm counter:  5\n",
      "perm counter:  10\n",
      "perm counter:  15\n",
      "perm counter:  20\n",
      "perm counter:  25\n",
      "perm counter:  30\n",
      "RUNNING FOR 31622 EXAMPLES\n",
      "perm counter:  5\n",
      "perm counter:  10\n",
      "perm counter:  15\n",
      "perm counter:  20\n",
      "perm counter:  25\n",
      "perm counter:  30\n",
      "RUNNING FOR 100000 EXAMPLES\n",
      "perm counter:  5\n",
      "perm counter:  10\n",
      "perm counter:  15\n",
      "perm counter:  20\n",
      "perm counter:  25\n",
      "perm counter:  30\n",
      "Done!!\n"
     ]
    }
   ],
   "source": [
    "# TRAINING ONLINE KALMAN ALGORITHM\n",
    "\n",
    "Nsizes = 5\n",
    "n_ex_float = np.floor(np.logspace(3.0, 5.0, num=Nsizes))\n",
    "n_ex = [int(item) for item in n_ex_float]\n",
    "# n_ex = [5000,10000]\n",
    "\n",
    "theta_store_all_K = []\n",
    "time_storage_K = []\n",
    "for N in n_ex:\n",
    "    print (\"RUNNING FOR {} EXAMPLES\".format(N))\n",
    "    \n",
    "    theta_store = []\n",
    "    perm_counter = 0\n",
    "    start_time = time.time()\n",
    "    for X_all,y_all in perms:\n",
    "        X = X_all[:N,:]\n",
    "        y = y_all[:N]\n",
    "        perm_counter += 1\n",
    "        if perm_counter % 5 == 0:\n",
    "            print (\"perm counter: \", perm_counter)\n",
    "        theta, _ = online_kalman(X,y,N)\n",
    "        theta_store.append(theta)\n",
    "    end_time = time.time()\n",
    "    elapsed_time = end_time - start_time\n",
    "    time_storage_K.append(elapsed_time)\n",
    "    theta_store_all_K.append(theta_store)\n",
    "\n",
    "print (\"Done!!\")"
   ]
  },
  {
   "cell_type": "code",
   "execution_count": 206,
   "metadata": {},
   "outputs": [],
   "source": [
    "# SAVE THETAS AND TIMES FOR KALMAN\n",
    "import pickle\n",
    "    \n",
    "with open('theta_store_all_K.plk', 'wb') as fp:\n",
    "    pickle.dump(theta_store_all_K, fp)\n",
    "    \n",
    "with open('time_storage_K.plk', 'wb') as fb:\n",
    "    pickle.dump(time_storage_K, fb)\n",
    "    "
   ]
  },
  {
   "cell_type": "markdown",
   "metadata": {},
   "source": [
    "# C) evaluations and figures"
   ]
  },
  {
   "cell_type": "code",
   "execution_count": 207,
   "metadata": {},
   "outputs": [
    {
     "name": "stdout",
     "output_type": "stream",
     "text": [
      "Done loading\n"
     ]
    }
   ],
   "source": [
    "# Import packages\n",
    "import matplotlib.pyplot as plt\n",
    "import pickle\n",
    "import numpy as np\n",
    "from itertools import permutations\n",
    "import random\n",
    "import time\n",
    "\n",
    "# Load in data\n",
    "\n",
    "Nsizes = 5\n",
    "ExamNums = [1000, 3162, 10000, 31622, 100000]\n",
    "Nperm = 30\n",
    "\n",
    "X_test_load = np.loadtxt(\"X_test.txt\")\n",
    "y_test_load = np.loadtxt(\"y_test.txt\")\n",
    "theta_star = np.loadtxt(\"theta_star.txt\")\n",
    "\n",
    "theta_store_all_K_load = pickle.load( open( \"theta_store_all_K.plk\", \"rb\" ))\n",
    "time_storage_K_load = pickle.load( open( \"time_storage_K.plk\", \"rb\" ))\n",
    "\n",
    "theta_store_all_N_load = pickle.load( open( \"theta_store_all_N.txt\", \"rb\" )) \n",
    "time_storage_N_load = pickle.load( open( \"time_storage_N.txt\", \"rb\" ))\n",
    "\n",
    "print (\"Done loading\")"
   ]
  },
  {
   "cell_type": "code",
   "execution_count": 214,
   "metadata": {},
   "outputs": [
    {
     "name": "stdout",
     "output_type": "stream",
     "text": [
      "For N Examples\n",
      "[1000, 3162, 10000, 31622, 100000]\n",
      "\n",
      "\n",
      "Newton\n",
      "Theta Diff\n",
      "[5.230125284161369, 1.654669251725445, 0.5488089192727466, 0.18861215138766976, 0.08162273864929236]\n",
      "MSE\n",
      "[0.0015251057517819099, 0.0004905336083212142, 0.0002326895761782105, 0.00013345042983784958, 9.727012173955246e-05]\n",
      "\n",
      "\n",
      "Kalman\n",
      "Theta Diff\n",
      "[9.726711808992533, 4.41851293459649, 2.936492575747337, 2.8187884018794596, 2.8528643418636817]\n",
      "MSE\n",
      "[0.0015257455468966168, 0.004350212356545761, 0.005181315765005957, 0.00543592091408392, 0.005510609109856457]\n"
     ]
    }
   ],
   "source": [
    "# Evalutaion\n",
    "def calc_evaluations(theta_store):\n",
    "    \n",
    "    store_mse_normalized = []\n",
    "    store_theta_diff = []\n",
    "    X = X_test_load\n",
    "    y = y_test_load\n",
    "    \n",
    "    for i, N in enumerate(ExamNums):\n",
    "        mse = 0\n",
    "        theta_diff = 0\n",
    "        \n",
    "        for j in range(Nperm):\n",
    "            theta = theta_store[i][j]\n",
    "            f = func(X, theta)\n",
    "            mse += mean_squared_error(f, 1.5*y)/ Nperm\n",
    "            theta_diff += norm(theta - theta_star)**2\n",
    "            \n",
    "        f_star = func(X, theta_star)\n",
    "        mse_star = mean_squared_error(f_star, 1.5*y)\n",
    "        \n",
    "        store_theta_diff.append(theta_diff)\n",
    "        store_mse_normalized.append(abs(mse-mse_star))\n",
    "    \n",
    "    return (store_theta_diff, store_mse_normalized)\n",
    "\n",
    "# Newton\n",
    "(theta_diff_N, mse_N) = calc_evaluations(theta_store_all_N_load)\n",
    "\n",
    "# Kalman (online)\n",
    "(theta_diff_K, mse_K) = calc_evaluations(theta_store_all_K_load)\n",
    "\n",
    "print (\"For N Examples\")\n",
    "print (ExamNums)\n",
    "\n",
    "print (\"\\n\\nNewton\")\n",
    "print (\"Theta Diff\")\n",
    "print (theta_diff_N)\n",
    "print (\"MSE\")\n",
    "print (mse_N)\n",
    "\n",
    "print (\"\\n\\nKalman\")\n",
    "print (\"Theta Diff\")\n",
    "print (theta_diff_K)\n",
    "print (\"MSE\")\n",
    "print (mse_K)"
   ]
  },
  {
   "cell_type": "markdown",
   "metadata": {},
   "source": [
    "## (θ−θ*)^2 by Num Examples"
   ]
  },
  {
   "cell_type": "code",
   "execution_count": 209,
   "metadata": {},
   "outputs": [
    {
     "data": {
      "text/plain": [
       "<matplotlib.legend.Legend at 0x1a47b02c50>"
      ]
     },
     "execution_count": 209,
     "metadata": {},
     "output_type": "execute_result"
    },
    {
     "data": {
      "image/png": "[encoded data removed]",
      "text/plain": [
       "<Figure size 648x432 with 1 Axes>"
      ]
     },
     "metadata": {},
     "output_type": "display_data"
    }
   ],
   "source": [
    "plt.figure(figsize=(9,6))\n",
    "plt.loglog(ExamNums, theta_diff_N)\n",
    "plt.loglog(ExamNums, theta_diff_K)\n",
    "plt.xlabel(\"Num Examples\", labelpad=15)\n",
    "plt.ylabel(\"(θ−θ*)^2\", labelpad=15)\n",
    "plt.title(\"(θ−θ*)^2 vs Num Examples\", y=1.025)\n",
    "plt.legend(['Newton Batch', 'Online Learner'], loc='upper right')"
   ]
  },
  {
   "cell_type": "markdown",
   "metadata": {},
   "source": [
    "## (θ−θ*)^2 by Time"
   ]
  },
  {
   "cell_type": "code",
   "execution_count": 210,
   "metadata": {},
   "outputs": [
    {
     "data": {
      "text/plain": [
       "<matplotlib.legend.Legend at 0x1a4d2ebef0>"
      ]
     },
     "execution_count": 210,
     "metadata": {},
     "output_type": "execute_result"
    },
    {
     "data": {
      "image/png": "[encoded data removed]",
      "text/plain": [
       "<Figure size 648x432 with 1 Axes>"
      ]
     },
     "metadata": {},
     "output_type": "display_data"
    }
   ],
   "source": [
    "plt.figure(figsize=(9,6))\n",
    "plt.loglog(time_storage_N_load, theta_diff_N)\n",
    "plt.loglog(time_storage_K, theta_diff_K)\n",
    "plt.xlabel(\"Training Time (sec)\", labelpad=15)\n",
    "plt.ylabel(\"(θ−θ*)^2\", labelpad=15)\n",
    "plt.title(\"(θ−θ*)^2 vs Time\", y=1.025)\n",
    "plt.legend(['Newton Batch', 'Online Learner'], loc='upper right')"
   ]
  },
  {
   "cell_type": "markdown",
   "metadata": {},
   "source": [
    "## Avg Test MSE by Num Examples"
   ]
  },
  {
   "cell_type": "code",
   "execution_count": 211,
   "metadata": {},
   "outputs": [
    {
     "data": {
      "text/plain": [
       "<matplotlib.legend.Legend at 0x1a4dc86160>"
      ]
     },
     "execution_count": 211,
     "metadata": {},
     "output_type": "execute_result"
    },
    {
     "data": {
      "image/png": "[encoded data removed]",
      "text/plain": [
       "<Figure size 648x432 with 1 Axes>"
      ]
     },
     "metadata": {},
     "output_type": "display_data"
    }
   ],
   "source": [
    "plt.figure(figsize=(9,6))\n",
    "plt.loglog(ExamNums, mse_N)\n",
    "plt.loglog(ExamNums, mse_K)\n",
    "plt.xlabel(\"Num Examples\", labelpad=15)\n",
    "plt.ylabel(\"Avg. Test MSE\", labelpad=15)\n",
    "plt.title(\"Avg. Test MSE vs Num Examples\", y=1.025)\n",
    "plt.legend(['Newton Batch', 'Online Learner'], loc='upper right')"
   ]
  },
  {
   "cell_type": "markdown",
   "metadata": {},
   "source": [
    "## Avg Test MSE by Time"
   ]
  },
  {
   "cell_type": "code",
   "execution_count": 212,
   "metadata": {},
   "outputs": [
    {
     "data": {
      "text/plain": [
       "<matplotlib.legend.Legend at 0x1a47c3a2e8>"
      ]
     },
     "execution_count": 212,
     "metadata": {},
     "output_type": "execute_result"
    },
    {
     "data": {
      "image/png": "[encoded data removed]",
      "text/plain": [
       "<Figure size 648x432 with 1 Axes>"
      ]
     },
     "metadata": {},
     "output_type": "display_data"
    }
   ],
   "source": [
    "plt.figure(figsize=(9,6))\n",
    "plt.loglog(time_storage_N_load, mse_N)\n",
    "plt.loglog(time_storage_K_load, mse_K)\n",
    "plt.xlabel(\"Training Time\", labelpad=15)\n",
    "plt.ylabel(\"Avg. Test MSE\", labelpad=15)\n",
    "plt.title(\"Avg. Test MSE vs Time\", y=1.025)\n",
    "plt.legend(['Newton Batch', 'Online Learner'], loc='upper right')"
   ]
  },
  {
   "cell_type": "code",
   "execution_count": null,
   "metadata": {},
   "outputs": [],
   "source": []
  }
 ],
 "metadata": {
  "kernelspec": {
   "display_name": "Python 3",
   "language": "python",
   "name": "python3"
  },
  "language_info": {
   "codemirror_mode": {
    "name": "ipython",
    "version": 3
   },
   "file_extension": ".py",
   "mimetype": "text/x-python",
   "name": "python",
   "nbconvert_exporter": "python",
   "pygments_lexer": "ipython3",
   "version": "3.6.5"
  }
 },
 "nbformat": 4,
 "nbformat_minor": 2
}
