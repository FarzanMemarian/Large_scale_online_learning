{
 "cells": [
  {
   "cell_type": "markdown",
   "metadata": {},
   "source": [
    "## Author: Farzan Memarian"
   ]
  },
  {
   "cell_type": "code",
   "execution_count": 21,
   "metadata": {},
   "outputs": [],
   "source": [
    "# Data generation\n",
    "\n",
    "import numpy as np\n",
    "from itertools import permutations\n",
    "import random\n",
    "import time\n",
    "from pdb import set_trace\n",
    "\n",
    "Nexam = 10**5\n",
    "Ndim = 20\n",
    "Nperm = 30\n",
    "x1 = np.random.multivariate_normal(mean= np.ones(Ndim), cov =  np.identity(Ndim),size = Nexam)\n",
    "y1 = np.ones(Nexam)\n",
    "x2 = np.random.multivariate_normal(mean= -np.ones(Ndim), cov =  np.identity(Ndim),size = Nexam)\n",
    "y2 = -np.ones(Nexam)\n",
    "\n",
    "X = np.concatenate((x1,x2),axis=0)\n",
    "y = np.concatenate((y1,y2))\n",
    "\n",
    "from sklearn import model_selection\n",
    "X_tr_orig, X_test_orig, y_tr_orig, y_test_orig = model_selection.train_test_split(X,y,test_size=0.5)\n",
    "\n",
    "# reshaping y\n",
    "y_tr_orig = y_tr_orig.reshape((len(y_tr_orig),1))\n",
    "y_test_orig = y_test_orig.reshape((len(y_test_orig),1))\n",
    "\n",
    "perms = [] # array storing different premutatins of X, Y\n",
    "for _ in range(Nperm):\n",
    "    inx = np.random.permutation(Nexam)\n",
    "    X_perm = X_tr_orig[inx]\n",
    "    y_perm = y_tr_orig[inx]\n",
    "    perms.append([X_perm,y_perm])"
   ]
  },
  {
   "cell_type": "markdown",
   "metadata": {},
   "source": [
    "### a) Batch newton algorithm with the Gauss-Newton approximation"
   ]
  },
  {
   "cell_type": "code",
   "execution_count": 17,
   "metadata": {},
   "outputs": [],
   "source": [
    "# functions\n",
    "from numpy import outer, matmul, inner\n",
    "from numpy.linalg import inv, norm\n",
    "from scipy.sparse import diags\n",
    "from sklearn.metrics import mean_squared_error\n",
    "\n",
    "def func(X, theta):\n",
    "    return 1.71 * np.tanh(0.66 * matmul(X, theta))\n",
    "\n",
    "def f_prime(X, theta):\n",
    "    return 1.71 * 0.66 / np.cosh(0.66 * matmul(X, theta))**2\n",
    "\n",
    "def gradient_loss(f, f_prime, y, X):\n",
    "    N = len(y)\n",
    "    g = np.zeros((Ndim,))\n",
    "    for i in range(N):\n",
    "        g += 2 * (f[i] - 1.5*y[i]) * f_prime[i] * X[i,:]\n",
    "    return g.reshape((Ndim,1))\n",
    "\n",
    "def hessian(f_prime, X):\n",
    "    h = np.zeros((Ndim,Ndim))\n",
    "    N,_ = np.shape(X)\n",
    "    for i in range(N):\n",
    "        h += f_prime[i]**2 * matmul(X[i,:],X[i,:].T)\n",
    "    return h\n",
    "\n",
    "def batch_newton_step(X, y, theta):\n",
    "\n",
    "    f = func(X, theta)\n",
    "    print \"mse f, y: {}\".format(mean_squared_error(f,y))\n",
    "    f_p = f_prime(X, theta)\n",
    "    g = gradient_loss(f, f_p, y, X)\n",
    "    h = hessian(f_p, X)\n",
    "    h_inv = inv(h)\n",
    "    d_theta = -matmul(h_inv, g)\n",
    "    return d_theta\n",
    "\n",
    "def batch_newton_iter(X, y, theta_init, thresh):\n",
    "    theta = theta_init\n",
    "    keep_iter = True\n",
    "    counter = 0\n",
    "    while keep_iter:\n",
    "#         counter += 1\n",
    "#         if counter % 10 == 0:\n",
    "#             print \"iter:\", counter\n",
    "#             print \"error\", norm(d_theta)\n",
    "#             print \"threshold\", thresh\n",
    "        d_theta = batch_newton_step(X, y, theta)\n",
    "        if norm(d_theta) > thresh:\n",
    "            theta += d_theta\n",
    "        else:\n",
    "            keep_iter = False\n",
    "    return theta"
   ]
  },
  {
   "cell_type": "code",
   "execution_count": null,
   "metadata": {
    "scrolled": true
   },
   "outputs": [],
   "source": [
    "# find theta^* on test set\n",
    "        \n",
    "# N = len(y_test_orig)\n",
    "N = 100000\n",
    "thresh = 1.0/N\n",
    "\n",
    "X = X_test_orig[:N,:]\n",
    "y = y_test_orig[:N]\n",
    "\n",
    "theta_init = np.random.uniform(-0.5, 0.5, size=Ndim).reshape((Ndim,1))\n",
    "start_time = time.time()\n",
    "theta_star = batch_newton_iter(X, y, theta_init, thresh)\n",
    "np.save('theta_star', theta_star)\n",
    "end_time = time.time()\n",
    "elapsed_time_test = end_time - start_time\n",
    "print \"elapsed time for test set: {}\".format(elapsed_time_test)"
   ]
  },
  {
   "cell_type": "code",
   "execution_count": 23,
   "metadata": {
    "scrolled": false
   },
   "outputs": [
    {
     "name": "stdout",
     "output_type": "stream",
     "text": [
      "RUNNING FOR 100000 EXAMPLES\n",
      "mse f, y: 0.875530657846\n"
     ]
    },
    {
     "ename": "LinAlgError",
     "evalue": "Singular matrix",
     "output_type": "error",
     "traceback": [
      "\u001b[0;31m---------------------------------------------------------------------------\u001b[0m",
      "\u001b[0;31mLinAlgError\u001b[0m                               Traceback (most recent call last)",
      "\u001b[0;32m<ipython-input-23-09391308cc75>\u001b[0m in \u001b[0;36m<module>\u001b[0;34m()\u001b[0m\n\u001b[1;32m     23\u001b[0m         \u001b[0mtheta_init\u001b[0m \u001b[0;34m=\u001b[0m \u001b[0mnp\u001b[0m\u001b[0;34m.\u001b[0m\u001b[0mrandom\u001b[0m\u001b[0;34m.\u001b[0m\u001b[0muniform\u001b[0m\u001b[0;34m(\u001b[0m\u001b[0;34m-\u001b[0m\u001b[0;36m0.5\u001b[0m\u001b[0;34m,\u001b[0m \u001b[0;36m0.5\u001b[0m\u001b[0;34m,\u001b[0m \u001b[0msize\u001b[0m\u001b[0;34m=\u001b[0m\u001b[0mNdim\u001b[0m\u001b[0;34m)\u001b[0m\u001b[0;34m.\u001b[0m\u001b[0mreshape\u001b[0m\u001b[0;34m(\u001b[0m\u001b[0;34m(\u001b[0m\u001b[0mNdim\u001b[0m\u001b[0;34m,\u001b[0m\u001b[0;36m1\u001b[0m\u001b[0;34m)\u001b[0m\u001b[0;34m)\u001b[0m\u001b[0;34m\u001b[0m\u001b[0m\n\u001b[1;32m     24\u001b[0m         \u001b[0mstart_time\u001b[0m \u001b[0;34m=\u001b[0m \u001b[0mtime\u001b[0m\u001b[0;34m.\u001b[0m\u001b[0mtime\u001b[0m\u001b[0;34m(\u001b[0m\u001b[0;34m)\u001b[0m\u001b[0;34m\u001b[0m\u001b[0m\n\u001b[0;32m---> 25\u001b[0;31m         \u001b[0mtheta\u001b[0m \u001b[0;34m=\u001b[0m \u001b[0mbatch_newton_iter\u001b[0m\u001b[0;34m(\u001b[0m\u001b[0mX\u001b[0m\u001b[0;34m,\u001b[0m \u001b[0my\u001b[0m\u001b[0;34m,\u001b[0m \u001b[0mtheta_init\u001b[0m\u001b[0;34m,\u001b[0m \u001b[0mthresh\u001b[0m\u001b[0;34m)\u001b[0m\u001b[0;34m\u001b[0m\u001b[0m\n\u001b[0m\u001b[1;32m     26\u001b[0m         \u001b[0mtheta_store\u001b[0m\u001b[0;34m.\u001b[0m\u001b[0mappend\u001b[0m\u001b[0;34m(\u001b[0m\u001b[0mtheta\u001b[0m\u001b[0;34m)\u001b[0m\u001b[0;34m\u001b[0m\u001b[0m\n\u001b[1;32m     27\u001b[0m     \u001b[0mend_time\u001b[0m \u001b[0;34m=\u001b[0m \u001b[0mtime\u001b[0m\u001b[0;34m.\u001b[0m\u001b[0mtime\u001b[0m\u001b[0;34m(\u001b[0m\u001b[0;34m)\u001b[0m\u001b[0;34m\u001b[0m\u001b[0m\n",
      "\u001b[0;32m<ipython-input-17-4cc868716ef9>\u001b[0m in \u001b[0;36mbatch_newton_iter\u001b[0;34m(X, y, theta_init, thresh)\u001b[0m\n\u001b[1;32m     46\u001b[0m \u001b[0;31m#             print \"error\", norm(d_theta)\u001b[0m\u001b[0;34m\u001b[0m\u001b[0;34m\u001b[0m\u001b[0m\n\u001b[1;32m     47\u001b[0m \u001b[0;31m#             print \"threshold\", thresh\u001b[0m\u001b[0;34m\u001b[0m\u001b[0;34m\u001b[0m\u001b[0m\n\u001b[0;32m---> 48\u001b[0;31m         \u001b[0md_theta\u001b[0m \u001b[0;34m=\u001b[0m \u001b[0mbatch_newton_step\u001b[0m\u001b[0;34m(\u001b[0m\u001b[0mX\u001b[0m\u001b[0;34m,\u001b[0m \u001b[0my\u001b[0m\u001b[0;34m,\u001b[0m \u001b[0mtheta\u001b[0m\u001b[0;34m)\u001b[0m\u001b[0;34m\u001b[0m\u001b[0m\n\u001b[0m\u001b[1;32m     49\u001b[0m         \u001b[0;32mif\u001b[0m \u001b[0mnorm\u001b[0m\u001b[0;34m(\u001b[0m\u001b[0md_theta\u001b[0m\u001b[0;34m)\u001b[0m \u001b[0;34m>\u001b[0m \u001b[0mthresh\u001b[0m\u001b[0;34m:\u001b[0m\u001b[0;34m\u001b[0m\u001b[0m\n\u001b[1;32m     50\u001b[0m             \u001b[0mtheta\u001b[0m \u001b[0;34m+=\u001b[0m \u001b[0md_theta\u001b[0m\u001b[0;34m\u001b[0m\u001b[0m\n",
      "\u001b[0;32m<ipython-input-17-4cc868716ef9>\u001b[0m in \u001b[0;36mbatch_newton_step\u001b[0;34m(X, y, theta)\u001b[0m\n\u001b[1;32m     32\u001b[0m     \u001b[0mg\u001b[0m \u001b[0;34m=\u001b[0m \u001b[0mgradient_loss\u001b[0m\u001b[0;34m(\u001b[0m\u001b[0mf\u001b[0m\u001b[0;34m,\u001b[0m \u001b[0mf_p\u001b[0m\u001b[0;34m,\u001b[0m \u001b[0my\u001b[0m\u001b[0;34m,\u001b[0m \u001b[0mX\u001b[0m\u001b[0;34m)\u001b[0m\u001b[0;34m\u001b[0m\u001b[0m\n\u001b[1;32m     33\u001b[0m     \u001b[0mh\u001b[0m \u001b[0;34m=\u001b[0m \u001b[0mhessian\u001b[0m\u001b[0;34m(\u001b[0m\u001b[0mf_p\u001b[0m\u001b[0;34m,\u001b[0m \u001b[0mX\u001b[0m\u001b[0;34m)\u001b[0m\u001b[0;34m\u001b[0m\u001b[0m\n\u001b[0;32m---> 34\u001b[0;31m     \u001b[0mh_inv\u001b[0m \u001b[0;34m=\u001b[0m \u001b[0minv\u001b[0m\u001b[0;34m(\u001b[0m\u001b[0mh\u001b[0m\u001b[0;34m)\u001b[0m\u001b[0;34m\u001b[0m\u001b[0m\n\u001b[0m\u001b[1;32m     35\u001b[0m     \u001b[0md_theta\u001b[0m \u001b[0;34m=\u001b[0m \u001b[0;34m-\u001b[0m\u001b[0mmatmul\u001b[0m\u001b[0;34m(\u001b[0m\u001b[0mh_inv\u001b[0m\u001b[0;34m,\u001b[0m \u001b[0mg\u001b[0m\u001b[0;34m)\u001b[0m\u001b[0;34m\u001b[0m\u001b[0m\n\u001b[1;32m     36\u001b[0m     \u001b[0;32mreturn\u001b[0m \u001b[0md_theta\u001b[0m\u001b[0;34m\u001b[0m\u001b[0m\n",
      "\u001b[0;32m/usr/local/lib/python2.7/dist-packages/numpy/linalg/linalg.pyc\u001b[0m in \u001b[0;36minv\u001b[0;34m(a)\u001b[0m\n\u001b[1;32m    524\u001b[0m     \u001b[0msignature\u001b[0m \u001b[0;34m=\u001b[0m \u001b[0;34m'D->D'\u001b[0m \u001b[0;32mif\u001b[0m \u001b[0misComplexType\u001b[0m\u001b[0;34m(\u001b[0m\u001b[0mt\u001b[0m\u001b[0;34m)\u001b[0m \u001b[0;32melse\u001b[0m \u001b[0;34m'd->d'\u001b[0m\u001b[0;34m\u001b[0m\u001b[0m\n\u001b[1;32m    525\u001b[0m     \u001b[0mextobj\u001b[0m \u001b[0;34m=\u001b[0m \u001b[0mget_linalg_error_extobj\u001b[0m\u001b[0;34m(\u001b[0m\u001b[0m_raise_linalgerror_singular\u001b[0m\u001b[0;34m)\u001b[0m\u001b[0;34m\u001b[0m\u001b[0m\n\u001b[0;32m--> 526\u001b[0;31m     \u001b[0mainv\u001b[0m \u001b[0;34m=\u001b[0m \u001b[0m_umath_linalg\u001b[0m\u001b[0;34m.\u001b[0m\u001b[0minv\u001b[0m\u001b[0;34m(\u001b[0m\u001b[0ma\u001b[0m\u001b[0;34m,\u001b[0m \u001b[0msignature\u001b[0m\u001b[0;34m=\u001b[0m\u001b[0msignature\u001b[0m\u001b[0;34m,\u001b[0m \u001b[0mextobj\u001b[0m\u001b[0;34m=\u001b[0m\u001b[0mextobj\u001b[0m\u001b[0;34m)\u001b[0m\u001b[0;34m\u001b[0m\u001b[0m\n\u001b[0m\u001b[1;32m    527\u001b[0m     \u001b[0;32mreturn\u001b[0m \u001b[0mwrap\u001b[0m\u001b[0;34m(\u001b[0m\u001b[0mainv\u001b[0m\u001b[0;34m.\u001b[0m\u001b[0mastype\u001b[0m\u001b[0;34m(\u001b[0m\u001b[0mresult_t\u001b[0m\u001b[0;34m,\u001b[0m \u001b[0mcopy\u001b[0m\u001b[0;34m=\u001b[0m\u001b[0mFalse\u001b[0m\u001b[0;34m)\u001b[0m\u001b[0;34m)\u001b[0m\u001b[0;34m\u001b[0m\u001b[0m\n\u001b[1;32m    528\u001b[0m \u001b[0;34m\u001b[0m\u001b[0m\n",
      "\u001b[0;32m/usr/local/lib/python2.7/dist-packages/numpy/linalg/linalg.pyc\u001b[0m in \u001b[0;36m_raise_linalgerror_singular\u001b[0;34m(err, flag)\u001b[0m\n\u001b[1;32m     88\u001b[0m \u001b[0;34m\u001b[0m\u001b[0m\n\u001b[1;32m     89\u001b[0m \u001b[0;32mdef\u001b[0m \u001b[0m_raise_linalgerror_singular\u001b[0m\u001b[0;34m(\u001b[0m\u001b[0merr\u001b[0m\u001b[0;34m,\u001b[0m \u001b[0mflag\u001b[0m\u001b[0;34m)\u001b[0m\u001b[0;34m:\u001b[0m\u001b[0;34m\u001b[0m\u001b[0m\n\u001b[0;32m---> 90\u001b[0;31m     \u001b[0;32mraise\u001b[0m \u001b[0mLinAlgError\u001b[0m\u001b[0;34m(\u001b[0m\u001b[0;34m\"Singular matrix\"\u001b[0m\u001b[0;34m)\u001b[0m\u001b[0;34m\u001b[0m\u001b[0m\n\u001b[0m\u001b[1;32m     91\u001b[0m \u001b[0;34m\u001b[0m\u001b[0m\n\u001b[1;32m     92\u001b[0m \u001b[0;32mdef\u001b[0m \u001b[0m_raise_linalgerror_nonposdef\u001b[0m\u001b[0;34m(\u001b[0m\u001b[0merr\u001b[0m\u001b[0;34m,\u001b[0m \u001b[0mflag\u001b[0m\u001b[0;34m)\u001b[0m\u001b[0;34m:\u001b[0m\u001b[0;34m\u001b[0m\u001b[0m\n",
      "\u001b[0;31mLinAlgError\u001b[0m: Singular matrix"
     ]
    }
   ],
   "source": [
    "# training batch newton algorighm\n",
    "\n",
    "# Nsizes = 5\n",
    "# n_ex_float = np.floor(np.logspace(3.0, 5.0, num=Nsizes))\n",
    "# n_ex = [int(item) for item in n_ex_float]\n",
    "n_ex = [100000,8000]\n",
    "\n",
    "theta_store_all = []\n",
    "time_storage = []\n",
    "for N in n_ex:\n",
    "    print \"RUNNING FOR {} EXAMPLES\".format(N)\n",
    "    start_time = time.time()\n",
    "    theta_store = []\n",
    "    thresh = 1.0/N\n",
    "    perm_counter = 0\n",
    "    for X_all,y_all in perms:\n",
    "        X = X_all[:N,:]\n",
    "        y = y_all[:N]\n",
    "        perm_counter += 1\n",
    "        if perm_counter % 10 == 0:\n",
    "            print \"perm counter:\", perm_counter \n",
    "        \n",
    "        theta_init = np.random.uniform(-0.5, 0.5, size=Ndim).reshape((Ndim,1))\n",
    "        start_time = time.time()\n",
    "        theta = batch_newton_iter(X, y, theta_init, thresh)\n",
    "        theta_store.append(theta)\n",
    "    end_time = time.time()\n",
    "    elapsed_time = end_time - start_time\n",
    "    time_storage.append(elapsed_time)\n",
    "    theta_store_all.append(theta_store)"
   ]
  },
  {
   "cell_type": "code",
   "execution_count": null,
   "metadata": {},
   "outputs": [],
   "source": [
    "# save thetas and times\n",
    "import pickle\n",
    "\n",
    "with open('thetas_all', 'wb') as fp:\n",
    "    pickle.dump(theta_store2, fp)\n",
    "    \n",
    "with open('times', 'wb') as fb:\n",
    "    pickle.dump(time_storage, fb)\n",
    "    \n",
    "    \n",
    "# with open ('thetas2', 'rb') as fp:\n",
    "#     itemlist = pickle.load(fp)"
   ]
  },
  {
   "cell_type": "code",
   "execution_count": 9,
   "metadata": {},
   "outputs": [
    {
     "data": {
      "text/plain": [
       "[[0.30339653926408167, 400], [0.30468899982494052, 1000]]"
      ]
     },
     "execution_count": 9,
     "metadata": {},
     "output_type": "execute_result"
    }
   ],
   "source": [
    "# evaluation of newton method on test set\n",
    "\n",
    "# find mse error on test data\n",
    "from sklearn.metrics import mean_squared_error\n",
    "store_mse = []\n",
    "X_test = X_test_orig\n",
    "y_test = y_test_orig\n",
    "for i, N in enumerate(n_ex):\n",
    "    mse = 0\n",
    "    for j in range(Nperm):\n",
    "        theta = theta_store_all[i][j]\n",
    "        f = func(X_test, theta)\n",
    "        mse += mean_squared_error(f,y_test)/Nperm\n",
    "    f_star = func(X_test, theta_star)\n",
    "    mse_star = mean_squared_error(f_star,y_test)\n",
    "    store_mse.append([mse,N])\n",
    "store_mse\n",
    "\n"
   ]
  },
  {
   "cell_type": "code",
   "execution_count": 8,
   "metadata": {},
   "outputs": [],
   "source": []
  },
  {
   "cell_type": "code",
   "execution_count": null,
   "metadata": {},
   "outputs": [],
   "source": []
  }
 ],
 "metadata": {
  "kernelspec": {
   "display_name": "Python 2",
   "language": "python",
   "name": "python2"
  },
  "language_info": {
   "codemirror_mode": {
    "name": "ipython",
    "version": 2
   },
   "file_extension": ".py",
   "mimetype": "text/x-python",
   "name": "python",
   "nbconvert_exporter": "python",
   "pygments_lexer": "ipython2",
   "version": "2.7.12"
  }
 },
 "nbformat": 4,
 "nbformat_minor": 2
}
