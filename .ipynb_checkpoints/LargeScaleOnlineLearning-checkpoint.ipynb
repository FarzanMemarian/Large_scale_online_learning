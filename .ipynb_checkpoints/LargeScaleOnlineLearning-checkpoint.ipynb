{
 "cells": [
  {
   "cell_type": "markdown",
   "metadata": {},
   "source": [
    "## Author: Farzan Memarian"
   ]
  },
  {
   "cell_type": "code",
   "execution_count": 1,
   "metadata": {},
   "outputs": [],
   "source": [
    "# DATA GENERATION\n",
    "\n",
    "import numpy as np\n",
    "from itertools import permutations\n",
    "import random\n",
    "import time\n",
    "from pdb import set_trace\n",
    "\n",
    "Nexam = 10**5\n",
    "Ndim = 20\n",
    "Nperm = 30\n",
    "x1 = np.random.multivariate_normal(mean= np.ones(Ndim), cov =  np.identity(Ndim),size = Nexam)\n",
    "y1 = np.ones(Nexam)\n",
    "x2 = np.random.multivariate_normal(mean= -np.ones(Ndim), cov =  np.identity(Ndim),size = Nexam)\n",
    "y2 = -np.ones(Nexam)\n",
    "\n",
    "X = np.concatenate((x1,x2),axis=0)\n",
    "y = np.concatenate((y1,y2))\n",
    "\n",
    "from sklearn import model_selection\n",
    "X_tr_orig, X_test_orig, y_tr_orig, y_test_orig = model_selection.train_test_split(X,y,test_size=0.5)\n",
    "\n",
    "# reshaping y\n",
    "y_tr_orig = y_tr_orig.reshape((len(y_tr_orig),1))\n",
    "y_test_orig = y_test_orig.reshape((len(y_test_orig),1))\n",
    "\n",
    "perms = [] # array storing different premutatins of X, Y\n",
    "for _ in range(Nperm):\n",
    "    inx = np.random.permutation(Nexam)\n",
    "    X_perm = X_tr_orig[inx]\n",
    "    y_perm = y_tr_orig[inx]\n",
    "    perms.append([X_perm,y_perm])"
   ]
  },
  {
   "cell_type": "markdown",
   "metadata": {},
   "source": [
    "### a) Batch newton algorithm with the Gauss-Newton approximation"
   ]
  },
  {
   "cell_type": "code",
   "execution_count": 2,
   "metadata": {},
   "outputs": [],
   "source": [
    "# FUNCTIONS\n",
    "from numpy import outer, matmul, inner\n",
    "from numpy.linalg import inv, norm\n",
    "from scipy.sparse import diags\n",
    "from sklearn.metrics import mean_squared_error\n",
    "\n",
    "def func(X, theta):\n",
    "    return  1.71 * np.tanh(0.66 * matmul(X, theta))\n",
    "\n",
    "def f_prime(X, theta):\n",
    "    return  1.71 * 0.66 *  (1 -  np.tanh(0.66 * matmul(X, theta)) )**2\n",
    "\n",
    "def gradient_loss(f, f_prime, y, X):\n",
    "    N = len(y)\n",
    "    g = np.zeros((Ndim,))\n",
    "    for i in range(N):\n",
    "        nabla_f_theta = f_prime[i] * X[i,:]\n",
    "        g += 0.5 * 2 * (f[i] - 1.5*y[i]) * nabla_f_theta\n",
    "    return g.reshape((Ndim,1))\n",
    "\n",
    "def hessian(f_prime, X):\n",
    "    h = np.zeros((Ndim,Ndim))\n",
    "    N,_ = np.shape(X)\n",
    "    for i in range(N):\n",
    "        h += f_prime[i]**2 * np.outer(X[i,:],X[i,:])\n",
    "    return h\n",
    "\n",
    "def batch_newton_step(X, y, theta):\n",
    "\n",
    "    f = func(X, theta)\n",
    "#     print (\"mse f, y: {}\".format(mean_squared_error(f,y)) )\n",
    "    f_p = f_prime(X, theta)\n",
    "    g = gradient_loss(f, f_p, y, X)\n",
    "    h = hessian(f_p, X)\n",
    "    h_inv = inv(h)\n",
    "    d_theta = -matmul(h_inv, g)\n",
    "    return d_theta\n",
    "\n",
    "def batch_newton_iter(X, y, theta_init, thresh):\n",
    "    theta = theta_init\n",
    "    keep_iter = True\n",
    "    counter = 0\n",
    "    while keep_iter:\n",
    "#         counter += 1\n",
    "#         if counter % 10 == 0:\n",
    "#             print (\"iter:\", counter)\n",
    "#             print (\"error\", norm(d_theta))\n",
    "#             print (\"threshold\", thresh)\n",
    "        d_theta = batch_newton_step(X, y, theta)\n",
    "\n",
    "        if norm(d_theta) > thresh:\n",
    "            theta += d_theta\n",
    "        else:\n",
    "            keep_iter = False\n",
    "    return theta"
   ]
  },
  {
   "cell_type": "code",
   "execution_count": 7,
   "metadata": {
    "scrolled": false
   },
   "outputs": [
    {
     "name": "stdout",
     "output_type": "stream",
     "text": [
      "elapsed time for test set: 230.90240788459778\n"
     ]
    }
   ],
   "source": [
    "# FIND THETA* ON TEST SET\n",
    "        \n",
    "N = len(y_test_orig)\n",
    "thresh = 0.01/N\n",
    "\n",
    "X = X_test_orig[:N,:]\n",
    "y = y_test_orig[:N]\n",
    "\n",
    "theta_init = np.random.uniform(-0.5, 0.5, size=Ndim).reshape((Ndim,1))\n",
    "# theta_init = np.asarray([[-0.45148032], [-0.24707166],[0.28715202],[-0.00086336],[ 0.15579776],[ 0.40848191],[-0.0577103 ],[ 0.10378568],[ 0.19488391],[ 0.35499952],[ 0.46115049],[-0.48382997],[ 0.29332625],[-0.14669058],[ 0.00110547],[ 0.44736687],[-0.07875841],[ 0.36241191],[-0.15974534]])\n",
    "start_time = time.time()\n",
    "theta_star = batch_newton_iter(X, y, theta_init, thresh)\n",
    "np.save('theta_star', theta_star)\n",
    "end_time = time.time()\n",
    "elapsed_time_test = end_time - start_time\n",
    "print (\"elapsed time for test set: {}\".format(elapsed_time_test))"
   ]
  },
  {
   "cell_type": "code",
   "execution_count": 4,
   "metadata": {
    "scrolled": false
   },
   "outputs": [
    {
     "name": "stdout",
     "output_type": "stream",
     "text": [
      "RUNNING FOR 1000 EXAMPLES\n",
      "perm counter: 3\n",
      "perm counter: 6\n",
      "perm counter: 9\n",
      "RUNNING FOR 5000 EXAMPLES\n",
      "perm counter: 3\n",
      "perm counter: 6\n",
      "perm counter: 9\n"
     ]
    }
   ],
   "source": [
    "# TRAINING BATCH NEWTON ALGORITHM\n",
    "\n",
    "# Nsizes = 5\n",
    "# n_ex_float = np.floor(np.logspace(3.0, 5.0, num=Nsizes))\n",
    "# n_ex = [int(item) for item in n_ex_float]\n",
    "n_ex = [1000,5000]\n",
    "\n",
    "theta_store_all = []\n",
    "time_storage = []\n",
    "for N in n_ex:\n",
    "    print (\"RUNNING FOR {} EXAMPLES\".format(N))\n",
    "    start_time = time.time()\n",
    "    theta_store = []\n",
    "    thresh = 0.01/N\n",
    "    perm_counter = 0\n",
    "    for X_all,y_all in perms:\n",
    "        X = X_all[:N,:]\n",
    "        y = y_all[:N]\n",
    "        perm_counter += 1\n",
    "        if perm_counter % 5 == 0:\n",
    "            print (\"perm counter:\", perm_counter) \n",
    "        \n",
    "        theta_init = np.random.uniform(-0.5, 0.5, size=Ndim).reshape((Ndim,1))\n",
    "        start_time = time.time()\n",
    "        theta = batch_newton_iter(X, y, theta_init, thresh)\n",
    "        theta_store.append(theta)\n",
    "    end_time = time.time()\n",
    "    elapsed_time = end_time - start_time\n",
    "    time_storage.append(elapsed_time)\n",
    "    theta_store_all.append(theta_store)"
   ]
  },
  {
   "cell_type": "code",
   "execution_count": null,
   "metadata": {},
   "outputs": [],
   "source": [
    "# SAVE THETAS AND TIMES\n",
    "import pickle\n",
    "\n",
    "with open('thetas_all', 'wb') as fp:\n",
    "    pickle.dump(theta_store2, fp)\n",
    "    \n",
    "with open('times', 'wb') as fb:\n",
    "    pickle.dump(time_storage, fb)\n",
    "    \n",
    "    \n",
    "# with open ('thetas2', 'rb') as fp:\n",
    "#     itemlist = pickle.load(fp)"
   ]
  },
  {
   "cell_type": "code",
   "execution_count": 9,
   "metadata": {},
   "outputs": [
    {
     "name": "stdout",
     "output_type": "stream",
     "text": [
      "mse for different examples:  [[0.23353333132329851, 1000], [0.23406907501297361, 5000]]\n",
      "mse star:  0.233454442856\n"
     ]
    }
   ],
   "source": [
    "# EVALUATION OF NEWTON METHOD ON TEST SET\n",
    "\n",
    "# find mse error on test data\n",
    "from sklearn.metrics import mean_squared_error\n",
    "store_mse = []\n",
    "X = X_test_orig\n",
    "y = y_test_orig\n",
    "for i, N in enumerate(n_ex):\n",
    "    mse = 0\n",
    "    for j in range(Nperm):\n",
    "        theta = theta_store_all[i][j]\n",
    "        f = func(X, theta)\n",
    "        mse += mean_squared_error(f,y)/Nperm\n",
    "    f_star = func(X, theta_star)\n",
    "    mse_star = mean_squared_error(f_star,y)\n",
    "    store_mse.append([mse,N])\n",
    "print (\"mse for different examples: \", store_mse)\n",
    "print (\"mse star: \", mse_star)\n",
    "\n"
   ]
  },
  {
   "cell_type": "code",
   "execution_count": 22,
   "metadata": {},
   "outputs": [
    {
     "name": "stdout",
     "output_type": "stream",
     "text": [
      "0.0988805899688\n"
     ]
    }
   ],
   "source": [
    "print (np.mean([norm(theta_store_all[0][i] - theta_star) for i in range(Nperm)]))"
   ]
  },
  {
   "cell_type": "code",
   "execution_count": 23,
   "metadata": {},
   "outputs": [
    {
     "name": "stdout",
     "output_type": "stream",
     "text": [
      "0.0432198960423\n"
     ]
    }
   ],
   "source": [
    "print ( np.mean([norm(theta_store_all[1][i] - theta_star) for i in range(Nperm)]))"
   ]
  }
 ],
 "metadata": {
  "kernelspec": {
   "display_name": "Python [conda env:anaconda3]",
   "language": "python",
   "name": "conda-env-anaconda3-py"
  },
  "language_info": {
   "codemirror_mode": {
    "name": "ipython",
    "version": 3
   },
   "file_extension": ".py",
   "mimetype": "text/x-python",
   "name": "python",
   "nbconvert_exporter": "python",
   "pygments_lexer": "ipython3",
   "version": "3.5.6"
  }
 },
 "nbformat": 4,
 "nbformat_minor": 2
}
