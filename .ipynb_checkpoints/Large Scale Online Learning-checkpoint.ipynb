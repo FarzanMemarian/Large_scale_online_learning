{
 "cells": [
  {
   "cell_type": "markdown",
   "metadata": {},
   "source": [
    "## Author: Farzan Memarian"
   ]
  },
  {
   "cell_type": "code",
   "execution_count": null,
   "metadata": {},
   "outputs": [],
   "source": [
    "# Data generation\n",
    "\n",
    "import numpy as np\n",
    "from itertools import permutations\n",
    "import random\n",
    "\n",
    "Nexam = 10**5\n",
    "Ndim = 19\n",
    "Nperm = 30\n",
    "x1 = np.random.multivariate_normal(mean= np.ones(Ndim), cov = np.identity(Ndim),size = Nexam)\n",
    "y1 = np.ones(Nexam)\n",
    "x2 = np.random.multivariate_normal(mean= -np.ones(Ndim), cov = np.identity(Ndim),size = Nexam)\n",
    "y2 = -np.ones(Nexam)\n",
    "\n",
    "X = np.concatenate((x1,x2),axis=0)\n",
    "y = np.concatenate((y1,y2))\n",
    "\n",
    "\n",
    "from sklearn import model_selection\n",
    "X_tr_orig, X_test_orig, y_tr_orig, y_test_orig = model_selection.train_test_split(X,y,test_size=0.5)\n",
    "\n",
    "# reshaping y\n",
    "y_tr_orig = y_tr_orig.reshape((len(y_tr_orig),1))\n",
    "y_test_orig = y_test_orig.reshape((len(y_test_orig),1))\n",
    "\n",
    "perms = [] # array storing different premutatins of X, Y\n",
    "for _ in range(Nperm):\n",
    "    inx = np.random.permutation(Nexam)\n",
    "    X_perm = X_tr_orig[inx]\n",
    "    y_perm = y_tr_orig[inx]\n",
    "    perms.append([X_perm,y_perm])"
   ]
  },
  {
   "cell_type": "markdown",
   "metadata": {},
   "source": [
    "### a) Batch newton algorithm with the Gauss-Newton approximation"
   ]
  },
  {
   "cell_type": "code",
   "execution_count": 1,
   "metadata": {
    "scrolled": false
   },
   "outputs": [
    {
     "ename": "ImportError",
     "evalue": "No module named tqdm",
     "output_type": "error",
     "traceback": [
      "\u001b[0;31m---------------------------------------------------------------------------\u001b[0m",
      "\u001b[0;31mImportError\u001b[0m                               Traceback (most recent call last)",
      "\u001b[0;32m<ipython-input-1-852a05b5f358>\u001b[0m in \u001b[0;36m<module>\u001b[0;34m()\u001b[0m\n\u001b[1;32m      5\u001b[0m \u001b[0;32mfrom\u001b[0m \u001b[0mnumpy\u001b[0m\u001b[0;34m.\u001b[0m\u001b[0mlinalg\u001b[0m \u001b[0;32mimport\u001b[0m \u001b[0minv\u001b[0m\u001b[0;34m,\u001b[0m \u001b[0mnorm\u001b[0m\u001b[0;34m\u001b[0m\u001b[0m\n\u001b[1;32m      6\u001b[0m \u001b[0;32mimport\u001b[0m \u001b[0mtime\u001b[0m\u001b[0;34m\u001b[0m\u001b[0m\n\u001b[0;32m----> 7\u001b[0;31m \u001b[0;32mfrom\u001b[0m \u001b[0mtqdm\u001b[0m \u001b[0;32mimport\u001b[0m \u001b[0mtqdm\u001b[0m\u001b[0;34m\u001b[0m\u001b[0m\n\u001b[0m\u001b[1;32m      8\u001b[0m \u001b[0mNsizes\u001b[0m \u001b[0;34m=\u001b[0m \u001b[0;36m5\u001b[0m\u001b[0;34m\u001b[0m\u001b[0m\n\u001b[1;32m      9\u001b[0m \u001b[0;34m\u001b[0m\u001b[0m\n",
      "\u001b[0;31mImportError\u001b[0m: No module named tqdm"
     ]
    }
   ],
   "source": [
    "# training batch newton algo\n",
    "import math\n",
    "from numpy.linalg import multi_dot\n",
    "from numpy import outer, matmul\n",
    "from numpy.linalg import inv, norm\n",
    "import time\n",
    "\n",
    "Nsizes = 5\n",
    "\n",
    "n_ex_float = np.floor(np.logspace(3.0, 5.0, num=Nsizes))\n",
    "n_ex = [int(item) for item in n_ex_float]\n",
    "# n_ex = [400,2000]\n",
    "\n",
    "theta_store2 = []\n",
    "time_storage = []\n",
    "for N in n_ex:\n",
    "    print \"RUNNING FOR {} EXAMPLES\".format(N)\n",
    "    start_time = time.time()\n",
    "    theta_store1 = []\n",
    "    thresh = 1.0/N\n",
    "    perm_counter = 0\n",
    "    for X_tr,y_tr in perms:\n",
    "        theta = np.random.uniform(-0.5, 0.5, size=Ndim).reshape((Ndim,1))\n",
    "        perm_counter += 1\n",
    "        if perm_counter % 10 == 0:\n",
    "            print \"perm counter:\", perm_counter \n",
    "\n",
    "        h = np.zeros((Ndim,Ndim))\n",
    "        keep_iter = True\n",
    "        counter = 0\n",
    "        while keep_iter:\n",
    "            counter += 1\n",
    "            \n",
    "#             if counter % 10 == 0:\n",
    "#                 print \"iter:\", counter\n",
    "#                 print \"error\", norm(d_theta)\n",
    "#                 print \"threshold\", thresh\n",
    "            \n",
    "            f = 1.71 * np.tanh(0.66 * matmul(X_tr[:N,:], theta))\n",
    "            df = 1.71 * 0.66 * X_tr[:N,:] / ( np.cosh(0.66 * matmul(X_tr[:N,:], theta)) )**2\n",
    "            g_mat = 2 * np.diag(f - 1.5*y_tr[:N]) * df\n",
    "            g = np.sum(g_mat,axis=0).reshape((Ndim,1))\n",
    "            for i in range(N):\n",
    "                h += matmul(np.outer(np.transpose(df[i,:]),df[i,:]), np.outer(np.transpose(X_tr[i,:]),X_tr[i,:]))\n",
    "            h_inv = inv(h)\n",
    "            d_theta = -matmul(h_inv,g)\n",
    "            if norm(d_theta) > thresh:\n",
    "                theta += d_theta\n",
    "            else:\n",
    "                keep_iter = False\n",
    "        theta_store1.append(theta)\n",
    "    end_time = time.time()\n",
    "    elapsed_time = end_time - start_time\n",
    "    time_storage.append(elapsed_time)\n",
    "    theta_store2.append(theta_store1)"
   ]
  },
  {
   "cell_type": "code",
   "execution_count": null,
   "metadata": {},
   "outputs": [],
   "source": [
    "store_mse"
   ]
  },
  {
   "cell_type": "code",
   "execution_count": null,
   "metadata": {},
   "outputs": [],
   "source": [
    "norm(theta_store2[0][0] - theta_store2[0][10])"
   ]
  },
  {
   "cell_type": "code",
   "execution_count": null,
   "metadata": {},
   "outputs": [],
   "source": []
  }
 ],
 "metadata": {
  "kernelspec": {
   "display_name": "Python 2",
   "language": "python",
   "name": "python2"
  },
  "language_info": {
   "codemirror_mode": {
    "name": "ipython",
    "version": 2
   },
   "file_extension": ".py",
   "mimetype": "text/x-python",
   "name": "python",
   "nbconvert_exporter": "python",
   "pygments_lexer": "ipython2",
   "version": "2.7.12"
  }
 },
 "nbformat": 4,
 "nbformat_minor": 2
}
