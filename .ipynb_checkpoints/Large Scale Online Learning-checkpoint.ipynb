{
 "cells": [
  {
   "cell_type": "code",
   "execution_count": 1,
   "metadata": {},
   "outputs": [],
   "source": [
    "# Data generation\n",
    "\n",
    "import numpy as np\n",
    "from itertools import permutations\n",
    "import random\n",
    "\n",
    "Nexam = 10**5\n",
    "Ndim = 19\n",
    "Nperm = 30\n",
    "x1 = np.random.multivariate_normal(mean= np.ones(Ndim), cov = np.identity(Ndim),size = Nexam)\n",
    "y1 = np.ones(Nexam)\n",
    "x2 = np.random.multivariate_normal(mean= -np.ones(Ndim), cov = np.identity(Ndim),size = Nexam)\n",
    "y2 = -np.ones(Nexam)\n",
    "\n",
    "X = np.concatenate((x1,x2),axis=0)\n",
    "y = np.concatenate((y1,y2))\n",
    "\n",
    "\n",
    "from sklearn import model_selection\n",
    "X_tr_orig, X_test_orig, y_tr_orig, y_test_orig = model_selection.train_test_split(X,y,test_size=0.5)\n",
    "\n",
    "# reshaping y\n",
    "y_tr_orig = y_tr_orig.reshape((len(y_tr_orig),1))\n",
    "y_test_orig = y_test_orig.reshape((len(y_test_orig),1))\n",
    "\n",
    "perms = [] # array storing different premutatins of X, Y\n",
    "for _ in range(Nperm):\n",
    "    inx = np.random.permutation(Nexam)\n",
    "    X_perm = X_tr_orig[inx]\n",
    "    y_perm = y_tr_orig[inx]\n",
    "    perms.append([X_perm,y_perm])"
   ]
  },
  {
   "cell_type": "markdown",
   "metadata": {},
   "source": [
    "### a) Batch newton algorithm with the Gauss-Newton approximation"
   ]
  },
  {
   "cell_type": "code",
   "execution_count": null,
   "metadata": {},
   "outputs": [
    {
     "name": "stdout",
     "output_type": "stream",
     "text": [
      "perm counter: 1\n",
      "perm counter: 2\n",
      "perm counter: 3\n",
      "perm counter: 4\n",
      "perm counter: 5\n",
      "perm counter: 6\n",
      "perm counter: 7\n",
      "perm counter: 8\n",
      "perm counter: 9\n",
      "perm counter: 10\n",
      "perm counter: 11\n",
      "perm counter: 12\n",
      "perm counter: 13\n",
      "perm counter: 14\n",
      "perm counter: 15\n",
      "perm counter: 16\n",
      "perm counter: 17\n",
      "perm counter: 18\n",
      "perm counter: 19\n",
      "perm counter: 20\n",
      "perm counter: 21\n",
      "perm counter: 22\n",
      "perm counter: 23\n",
      "perm counter: 24\n",
      "perm counter: 25\n",
      "perm counter: 26\n",
      "perm counter: 27\n",
      "perm counter: 28\n",
      "perm counter: 29\n",
      "perm counter: 30\n",
      "perm counter: 1\n"
     ]
    }
   ],
   "source": [
    "# training batch newton algo\n",
    "import math\n",
    "from numpy.linalg import multi_dot\n",
    "from numpy import outer, matmul\n",
    "from numpy.linalg import inv, norm\n",
    "import time\n",
    "Nsizes = 3\n",
    "# n_ex = np.floor(np.logspace(2.0, 5.0, num=Nsizes))\n",
    "n_ex = [100000]\n",
    "\n",
    "start_time = time.time()\n",
    "theta = np.random.uniform(-0.5, 0.5, size=Ndim).reshape((Ndim,1))\n",
    "\n",
    "theta_store2 = []\n",
    "for N in n_ex:\n",
    "    theta_store1 = []\n",
    "    thresh = 1.0/N\n",
    "    perm_counter = 0\n",
    "    for X_tr,y_tr in perms: \n",
    "        perm_counter += 1\n",
    "        print \"perm counter:\", perm_counter \n",
    "#         g = np.zeros(Ndim)\n",
    "        h = np.zeros((Ndim,Ndim))\n",
    "        keep_iter = True\n",
    "        counter = 0\n",
    "        while keep_iter:\n",
    "            counter += 1\n",
    "            \n",
    "            if counter % 10 == 0:\n",
    "                print \"iter:\", counter\n",
    "                print \"error\", norm(d_theta)\n",
    "                print \"threshold\", thresh\n",
    "            \n",
    "            f = 1.71 * np.tanh(0.66 * matmul(X_tr[:N,:], theta))\n",
    "            df = 1.71 * 0.66 * X_tr[:N,:] / ( np.cosh(0.66 * matmul(X_tr[:N,:], theta)) )**2\n",
    "            g_mat = 2 * np.diag(f - 1.5*y_tr[:N]) * df\n",
    "            g = np.sum(g_mat,axis=0).reshape((Ndim,1))\n",
    "            for i in range(N):\n",
    "                h += matmul(np.outer(np.transpose(df[i,:]),df[i,:]), np.outer(np.transpose(X_tr[i,:]),X_tr[i,:]))\n",
    "            h_inv = inv(h)\n",
    "            d_theta = -matmul(h_inv,g)\n",
    "            if norm(d_theta) > thresh:\n",
    "                theta += d_theta\n",
    "            else:\n",
    "                keep_iter = False\n",
    "        theta_store1.append(theta)\n",
    "    theta_store2.append(theta_store1)\n",
    "end_time = time.time()\n",
    "elapsed_time = end_time - start_time\n",
    "            \n",
    "            "
   ]
  },
  {
   "cell_type": "code",
   "execution_count": 6,
   "metadata": {},
   "outputs": [
    {
     "data": {
      "text/plain": [
       "(2, 30, 19, 1)"
      ]
     },
     "execution_count": 6,
     "metadata": {},
     "output_type": "execute_result"
    }
   ],
   "source": [
    "# evaluation of newton method on test set\n",
    "from sklearn.metrics import mean_squared_error\n",
    "store_mse = []\n",
    "for i, N in enumerate(n_ex):\n",
    "    mse = 0\n",
    "    for j in range(Nperm):\n",
    "        theta = theta_store2[i][j]\n",
    "        f = 1.71 * np.tanh(0.66 * matmul(X_test, theta))\n",
    "        mse += mean_squared_error(f,y_test)/Nperm\n",
    "    store_mse.append([mse,N])"
   ]
  },
  {
   "cell_type": "code",
   "execution_count": null,
   "metadata": {},
   "outputs": [],
   "source": []
  }
 ],
 "metadata": {
  "kernelspec": {
   "display_name": "Python 2",
   "language": "python",
   "name": "python2"
  },
  "language_info": {
   "codemirror_mode": {
    "name": "ipython",
    "version": 2
   },
   "file_extension": ".py",
   "mimetype": "text/x-python",
   "name": "python",
   "nbconvert_exporter": "python",
   "pygments_lexer": "ipython2",
   "version": "2.7.12"
  }
 },
 "nbformat": 4,
 "nbformat_minor": 2
}
